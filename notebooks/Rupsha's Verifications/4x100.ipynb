{
 "cells": [
  {
   "cell_type": "markdown",
   "id": "9e36987b",
   "metadata": {},
   "source": [
    "#### Imports"
   ]
  },
  {
   "cell_type": "code",
   "execution_count": 1,
   "id": "0230617b",
   "metadata": {},
   "outputs": [
    {
     "name": "stderr",
     "output_type": "stream",
     "text": [
      "/home/tintu/.local/lib/python3.10/site-packages/maraboupy/Marabou.py:27: UserWarning: Tensorflow parser is unavailable because tensorflow package is not installed\n",
      "  warnings.warn(\"Tensorflow parser is unavailable because tensorflow package is not installed\")\n"
     ]
    }
   ],
   "source": [
    "import numpy as np\n",
    "import pandas as pd\n",
    "from maraboupy import Marabou\n",
    "from maraboupy import MarabouNetworkONNX\n",
    "import time\n",
    "from ucimlrepo import fetch_ucirepo\n",
    "import onnx"
   ]
  },
  {
   "cell_type": "markdown",
   "id": "322ae209",
   "metadata": {},
   "source": [
    "#### Load Dataset"
   ]
  },
  {
   "cell_type": "code",
   "execution_count": null,
   "id": "5f6a0adc",
   "metadata": {},
   "outputs": [],
   "source": [
    "# fetch dataset \n",
    "adult_census_income = fetch_ucirepo(id=2)\n",
    "adult_census_income.metadata"
   ]
  },
  {
   "cell_type": "code",
   "execution_count": null,
   "id": "14ac7036",
   "metadata": {},
   "outputs": [],
   "source": [
    "X = adult_census_income.data.features\n",
    "y = adult_census_income.data.targets\n",
    "\n",
    "display(X.head(), y.head())"
   ]
  },
  {
   "cell_type": "markdown",
   "id": "1d790840",
   "metadata": {},
   "source": [
    "#### Load Model"
   ]
  },
  {
   "cell_type": "code",
   "execution_count": 2,
   "id": "d1bc1acb",
   "metadata": {},
   "outputs": [],
   "source": [
    "layers = '4'\n",
    "width = '100'"
   ]
  },
  {
   "cell_type": "code",
   "execution_count": 3,
   "id": "7e5a897e",
   "metadata": {},
   "outputs": [],
   "source": [
    "model = f'../../models/{layers}_layers/model_{layers}x{width}.onnx'"
   ]
  },
  {
   "cell_type": "code",
   "execution_count": 4,
   "id": "e7066a89",
   "metadata": {},
   "outputs": [
    {
     "data": {
      "text/plain": [
       "<maraboupy.MarabouNetworkONNX.MarabouNetworkONNX at 0x72b50c70e050>"
      ]
     },
     "execution_count": 4,
     "metadata": {},
     "output_type": "execute_result"
    }
   ],
   "source": [
    "Marabou.read_onnx(model)"
   ]
  }
 ],
 "metadata": {
  "kernelspec": {
   "display_name": "Python 3",
   "language": "python",
   "name": "python3"
  },
  "language_info": {
   "codemirror_mode": {
    "name": "ipython",
    "version": 3
   },
   "file_extension": ".py",
   "mimetype": "text/x-python",
   "name": "python",
   "nbconvert_exporter": "python",
   "pygments_lexer": "ipython3",
   "version": "3.10.12"
  }
 },
 "nbformat": 4,
 "nbformat_minor": 5
}
